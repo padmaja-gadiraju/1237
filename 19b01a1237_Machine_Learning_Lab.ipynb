{
  "nbformat": 4,
  "nbformat_minor": 0,
  "metadata": {
    "colab": {
      "name": "19b01a1237 Machine Learning Lab.ipynb",
      "provenance": [],
      "collapsed_sections": [],
      "include_colab_link": true
    },
    "kernelspec": {
      "name": "python3",
      "display_name": "Python 3"
    },
    "language_info": {
      "name": "python"
    }
  },
  "cells": [
    {
      "cell_type": "markdown",
      "metadata": {
        "id": "view-in-github",
        "colab_type": "text"
      },
      "source": [
        "<a href=\"https://colab.research.google.com/github/padmaja-gadiraju/1237/blob/main/19b01a1237_Machine_Learning_Lab.ipynb\" target=\"_parent\"><img src=\"https://colab.research.google.com/assets/colab-badge.svg\" alt=\"Open In Colab\"/></a>"
      ]
    },
    {
      "cell_type": "code",
      "source": [
        "import numpy as np"
      ],
      "metadata": {
        "id": "-acFCitZ4Mte"
      },
      "execution_count": null,
      "outputs": []
    },
    {
      "cell_type": "markdown",
      "source": [
        "*Q1. Write python program for consider two random array A and B, check if they\n",
        "are equal.*"
      ],
      "metadata": {
        "id": "-OP9V3TZ34Wc"
      }
    },
    {
      "cell_type": "code",
      "execution_count": null,
      "metadata": {
        "colab": {
          "base_uri": "https://localhost:8080/"
        },
        "id": "DJOXF6X62FzX",
        "outputId": "f720ac0c-8dde-4a1f-c4e3-6375751f7376"
      },
      "outputs": [
        {
          "output_type": "stream",
          "name": "stdout",
          "text": [
            "First array [2 1 2 0 0]\n",
            "Second array [0 0 0 1 3]\n",
            "False\n"
          ]
        }
      ],
      "source": [
        "A = np.random.randint(0,4,5)\n",
        "print(\"First array\", A)\n",
        "B = np.random.randint(0,4,5)\n",
        "print(\"Second array\", B)\n",
        "check = np.allclose(A,B)\n",
        "print(check)"
      ]
    },
    {
      "cell_type": "markdown",
      "source": [
        "Q2. Write python program for consider a given vector, how to add 1 to each\n",
        "element indexed by a second vector (be careful with repeated indices)?*"
      ],
      "metadata": {
        "id": "6a0Tou8N5c0p"
      }
    },
    {
      "cell_type": "code",
      "source": [
        "A = np.random.randint(0,4,5)\n",
        "print(\"Vetor : \", A)\n",
        "B = np.random.randint(0,4,5)\n",
        "print(\"Indices : \", B)\n",
        "res = np.add.at(A,B,1)\n",
        "print(\"Result\", A)"
      ],
      "metadata": {
        "colab": {
          "base_uri": "https://localhost:8080/"
        },
        "id": "LJta-FR05mmj",
        "outputId": "d50d7ff2-0f1d-449a-d1b1-452a6ac1be1b"
      },
      "execution_count": null,
      "outputs": [
        {
          "output_type": "stream",
          "name": "stdout",
          "text": [
            "Vetor :  [1 3 0 1 0]\n",
            "Indices :  [3 0 2 1 1]\n",
            "Result [2 5 1 2 0]\n"
          ]
        }
      ]
    },
    {
      "cell_type": "markdown",
      "source": [
        "*Q3. Write python program to get the n largest values of an array.*"
      ],
      "metadata": {
        "id": "2TZ7MU0e7hHM"
      }
    },
    {
      "cell_type": "code",
      "source": [
        "arr = np.random.randint(2,25,10)\n",
        "print(\"Array: \",arr)\n",
        "arr1 = np.argsort(arr)\n",
        "print(\"Sorted Array: \",arr[arr1])\n",
        "n = int(input())\n",
        "print(arr[arr1[-n:]])"
      ],
      "metadata": {
        "colab": {
          "base_uri": "https://localhost:8080/"
        },
        "id": "onDPOhn17vBT",
        "outputId": "f8e096c7-fd97-4cc3-d76e-593122d4db63"
      },
      "execution_count": null,
      "outputs": [
        {
          "output_type": "stream",
          "name": "stdout",
          "text": [
            "Array:  [23  3  9  3 21 13  6 19 23 15]\n",
            "Sorted Array:  [ 3  3  6  9 13 15 19 21 23 23]\n",
            "8\n",
            "[ 6  9 13 15 19 21 23 23]\n"
          ]
        }
      ]
    },
    {
      "cell_type": "markdown",
      "source": [
        "*Q4. Load the energy data from the file `Energy Indicators.xls`, which is a list of\n",
        "indicators of [energy supply and renewable electricity production]\n",
        "(Energy%20Indicators.xls) from the\n",
        "(http://unstats.un.org/unsd/environment/excel_file_tables/2013/Energy%20I\n",
        "ndicators.xls) for the year 2013, and should be put into a DataFrame with the\n",
        "variable name of **energy**.*"
      ],
      "metadata": {
        "id": "CJqhIoTK8bE1"
      }
    },
    {
      "cell_type": "code",
      "source": [
        "import pandas as pd\n",
        "import numpy as np\n",
        "\n",
        "import warnings\n",
        "warnings.filterwarnings('ignore')"
      ],
      "metadata": {
        "id": "kfvDUHXh8WWU"
      },
      "execution_count": null,
      "outputs": []
    },
    {
      "cell_type": "code",
      "source": [
        "pip install --upgrade xlrd"
      ],
      "metadata": {
        "colab": {
          "base_uri": "https://localhost:8080/"
        },
        "id": "5AJ2PI6ZTQVr",
        "outputId": "f845881a-0d60-45d1-9f67-48a7c9d39869"
      },
      "execution_count": null,
      "outputs": [
        {
          "output_type": "stream",
          "name": "stdout",
          "text": [
            "Requirement already satisfied: xlrd in /usr/local/lib/python3.7/dist-packages (2.0.1)\n"
          ]
        }
      ]
    },
    {
      "cell_type": "code",
      "source": [
        "import pandas as pd\n",
        "import numpy as np\n",
        "df = pd.read_excel ('EnergyIndicators.xls')\n",
        "df = df[17:244]\n",
        "df = df.drop(df.columns[[0,1]],axis = 1)\n",
        "df = df.rename(columns={'Unnamed: 2':'Country','Unnamed: 3':'Energy','Unnamed: 4':'Energy Per Capita','Unnamed: 5':'Renewable Electricity'})\n",
        "df.replace('...',np.nan,inplace = True)\n",
        "df['Energy'] = df['Energy'].fillna(df['Energy'].mean())\n",
        "df['Energy Per Capita'] = df['Energy Per Capita'].fillna(df['Energy Per Capita'].mean())\n",
        "df['Renewable Electricity'] = df['Renewable Electricity'].fillna(df['Renewable Electricity'].mean())\n",
        "name = input(\"Enter Country name: \")\n",
        "ans = df[df['Country'] == name] \n",
        "print(ans)\n",
        "print(\"For\",name,\"Energy is\",ans['Energy'].to_string(index=False))"
      ],
      "metadata": {
        "id": "cbDM-2e-d1cV",
        "colab": {
          "base_uri": "https://localhost:8080/"
        },
        "outputId": "f79cf697-88b9-432f-dc6c-bb5f3e31d472"
      },
      "execution_count": null,
      "outputs": [
        {
          "output_type": "stream",
          "name": "stdout",
          "text": [
            "Enter Country name: India\n",
            "    Country   Energy  Energy Per Capita  Renewable Electricity\n",
            "113   India  33195.0               26.0               14.96908\n",
            "For India Energy is 33195.0\n"
          ]
        }
      ]
    },
    {
      "cell_type": "markdown",
      "source": [
        "*Q5. Write python program for given an arbitrary number of vectors, build the\n",
        "cartesian product (every combinations of every item)*"
      ],
      "metadata": {
        "id": "7OYPyY9V9IjJ"
      }
    },
    {
      "cell_type": "code",
      "source": [
        "x = np.array([1,2,3])\n",
        "y = np.array([4,5])\n",
        "res = np.transpose([np.tile(x, len(y)), np.repeat(y, len(x))])\n",
        "print(\"Cartesian Product for Two Arrays:\")\n",
        "print(res)"
      ],
      "metadata": {
        "colab": {
          "base_uri": "https://localhost:8080/"
        },
        "id": "LzvSBQcPeqgr",
        "outputId": "1df70895-ccfe-4ca0-fe17-d7a020c93e09"
      },
      "execution_count": null,
      "outputs": [
        {
          "output_type": "stream",
          "name": "stdout",
          "text": [
            "Cartesian Product for Two Arrays:\n",
            "[[1 4]\n",
            " [2 4]\n",
            " [3 4]\n",
            " [1 5]\n",
            " [2 5]\n",
            " [3 5]]\n"
          ]
        }
      ]
    },
    {
      "cell_type": "code",
      "source": [
        "\n",
        "def cartesian(arrays):\n",
        "    arrays = [np.asarray(a) for a in arrays]\n",
        "    print(\"Arrays: \\n\",arrays)\n",
        "    \n",
        "    shape = (len(x) for x in arrays)\n",
        "    \n",
        "\n",
        "    ix = np.indices(shape, dtype=int)\n",
        "    ix = ix.reshape(len(arrays), -1).T\n",
        "\n",
        "    for n, arr in enumerate(arrays):\n",
        "        ix[:, n] = arrays[n][ix[:, n]]\n",
        "\n",
        "    return ix\n",
        "\n",
        "arr1=[1, 2, 3]\n",
        "arr2=[4,5]\n",
        "arr3=[6,7]\n",
        "arr4=[8,9,0]\n",
        "res=cartesian((arr1, arr2, arr3,arr4))\n",
        "print(\"Cartesian Product for Multiple Arrays: \\n\", res)"
      ],
      "metadata": {
        "colab": {
          "base_uri": "https://localhost:8080/"
        },
        "id": "5KAeTpU-e3d2",
        "outputId": "b7927901-e36f-459c-d076-270e8c52dc20"
      },
      "execution_count": null,
      "outputs": [
        {
          "output_type": "stream",
          "name": "stdout",
          "text": [
            "Arrays: \n",
            " [array([1, 2, 3]), array([4, 5]), array([6, 7]), array([8, 9, 0])]\n",
            "Cartesian Product for Multiple Arrays: \n",
            " [[1 4 6 8]\n",
            " [1 4 6 9]\n",
            " [1 4 6 0]\n",
            " [1 4 7 8]\n",
            " [1 4 7 9]\n",
            " [1 4 7 0]\n",
            " [1 5 6 8]\n",
            " [1 5 6 9]\n",
            " [1 5 6 0]\n",
            " [1 5 7 8]\n",
            " [1 5 7 9]\n",
            " [1 5 7 0]\n",
            " [2 4 6 8]\n",
            " [2 4 6 9]\n",
            " [2 4 6 0]\n",
            " [2 4 7 8]\n",
            " [2 4 7 9]\n",
            " [2 4 7 0]\n",
            " [2 5 6 8]\n",
            " [2 5 6 9]\n",
            " [2 5 6 0]\n",
            " [2 5 7 8]\n",
            " [2 5 7 9]\n",
            " [2 5 7 0]\n",
            " [3 4 6 8]\n",
            " [3 4 6 9]\n",
            " [3 4 6 0]\n",
            " [3 4 7 8]\n",
            " [3 4 7 9]\n",
            " [3 4 7 0]\n",
            " [3 5 6 8]\n",
            " [3 5 6 9]\n",
            " [3 5 6 0]\n",
            " [3 5 7 8]\n",
            " [3 5 7 9]\n",
            " [3 5 7 0]]\n"
          ]
        }
      ]
    },
    {
      "cell_type": "markdown",
      "source": [
        "*Q6 Write python program to get value of x for given linear equations.*"
      ],
      "metadata": {
        "id": "IJ7_h51cewv7"
      }
    },
    {
      "cell_type": "code",
      "source": [
        "from sympy import symbols, Eq, solve\n",
        "x, y, z = symbols('x,y,z')\n",
        "eq1 = Eq((x+y+z), 1)\n",
        "print(\"Equation 1: \", eq1)\n",
        "eq2 = Eq((x-y+2*z), 1)\n",
        "print(\"Equation 2: \",eq2)\n",
        "eq3 = Eq((2*x-y+2*z), 1)\n",
        "print(\"Equation 3: \",eq3)\n",
        "print(\"\\n Values of 3 unknown variable are as follows:\")\n",
        "print(solve((eq1, eq2, eq3), (x, y, z)))"
      ],
      "metadata": {
        "colab": {
          "base_uri": "https://localhost:8080/"
        },
        "id": "z5e2wUpjewQo",
        "outputId": "73795ee9-ed83-4e37-99f7-34f905b510fe"
      },
      "execution_count": null,
      "outputs": [
        {
          "output_type": "stream",
          "name": "stdout",
          "text": [
            "Equation 1:  Eq(x + y + z, 1)\n",
            "Equation 2:  Eq(x - y + 2*z, 1)\n",
            "Equation 3:  Eq(2*x - y + 2*z, 1)\n",
            "\n",
            " Values of 3 unknown variable are as follows:\n",
            "{x: 0, y: 1/3, z: 2/3}\n"
          ]
        }
      ]
    },
    {
      "cell_type": "markdown",
      "source": [
        "model 2"
      ],
      "metadata": {
        "id": "NJYKRVRXfWsh"
      }
    },
    {
      "cell_type": "code",
      "source": [
        "from sympy import symbols, Eq, solve\n",
        "x2 = int(input(\"Enter coefficient x2: \"))\n",
        "y2 = int(input(\"Enter coefficient y2: \"))\n",
        "c = int(input(\"Enter constant c: \"))\n",
        "x1 = int(input(\"Enter coefficient x1: \"))\n",
        "y1 = int(input(\"Enter coefficient y1: \"))\n",
        "c1 = int(input(\"Enter constant c1: \"))\n",
        "x,y = symbols('x y')\n",
        "eq1 = Eq((x2*x)+(y2*y)+c,0)\n",
        "eq2 = Eq((x1*x)+(y1*y)+c1,0)\n",
        "solve((eq1,eq2),(x,y))"
      ],
      "metadata": {
        "colab": {
          "base_uri": "https://localhost:8080/"
        },
        "id": "-8-XMsAMUvWD",
        "outputId": "73cd4ce0-21d9-4f21-dd3c-51e00717e444"
      },
      "execution_count": null,
      "outputs": [
        {
          "name": "stdout",
          "output_type": "stream",
          "text": [
            "Enter coefficient x2: 2\n",
            "Enter coefficient y2: 3\n",
            "Enter constant c: 5\n",
            "Enter coefficient x1: 3\n",
            "Enter coefficient y1: 5\n",
            "Enter constant c1: 6\n"
          ]
        },
        {
          "output_type": "execute_result",
          "data": {
            "text/plain": [
              "{x: -7, y: 3}"
            ]
          },
          "metadata": {},
          "execution_count": 39
        }
      ]
    },
    {
      "cell_type": "markdown",
      "source": [
        "*Q7. Write python program to find eigen analysis for given matrix.*"
      ],
      "metadata": {
        "id": "zM46uan1fkjU"
      }
    },
    {
      "cell_type": "code",
      "source": [
        "m = np.mat(\"3 -2;1 0\")\n",
        "#print(\"Original matrix:\", m)\n",
        "w, v = np.linalg.eig(m) \n",
        "print( \"Eigenvalues of W : \",w)\n",
        "print( \"Eigenvectors of V : \",v)"
      ],
      "metadata": {
        "colab": {
          "base_uri": "https://localhost:8080/"
        },
        "id": "-qSj6xAhHHVK",
        "outputId": "3f6754f1-077a-40c5-8cd9-354cced1fe71"
      },
      "execution_count": null,
      "outputs": [
        {
          "output_type": "stream",
          "name": "stdout",
          "text": [
            "Eigenvalues of W :  [2. 1.]\n",
            "Eigenvectors of V :  [[0.89442719 0.70710678]\n",
            " [0.4472136  0.70710678]]\n"
          ]
        }
      ]
    },
    {
      "cell_type": "markdown",
      "source": [
        "*Q8. Write oython program to predict the age of the abalone by using MNIST data set.*"
      ],
      "metadata": {
        "id": "zx7DpYzxU19L"
      }
    },
    {
      "cell_type": "code",
      "source": [
        ""
      ],
      "metadata": {
        "id": "P4gpI2TcYQ9M"
      },
      "execution_count": null,
      "outputs": []
    }
  ]
}